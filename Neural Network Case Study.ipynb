{
 "cells": [
  {
   "cell_type": "markdown",
   "id": "55352b22-9042-4add-bf4d-0602eb259881",
   "metadata": {},
   "source": [
    "***Implementation of Neural Network from Scratch using Numpy***"
   ]
  },
  {
   "cell_type": "code",
   "execution_count": 1,
   "id": "b5b324f1-ea8e-4884-b8ad-8158c91861d0",
   "metadata": {},
   "outputs": [],
   "source": [
    "#DATASET\n",
    "#A\n",
    "a= [0,0,1,1,0,0,\n",
    "   0,1,0,0,1,0,\n",
    "   1,1,1,1,1,1,\n",
    "   1,0,0,0,0,1,\n",
    "   1,0,0,0,0,1]\n",
    "\n",
    "#B\n",
    "b= [0,1,1,1,1,0,\n",
    "   0,1,0,0,1,0,\n",
    "   0,1,1,1,1,0,\n",
    "   0,1,0,0,1,0,\n",
    "   0,1,1,1,1,0]\n",
    "\n",
    "#C\n",
    "c=[0,1,1,1,1,0,\n",
    "  0,1,0,0,0,0,\n",
    "  0,1,0,0,0,0,\n",
    "  0,1,0,0,0,0,\n",
    "  0,1,1,1,1,0]"
   ]
  },
  {
   "cell_type": "code",
   "execution_count": 2,
   "id": "2b349045-a5e1-4583-895a-133fc39a264a",
   "metadata": {},
   "outputs": [],
   "source": [
    "#Creating labels\n",
    "y=[[1,0,0],\n",
    "   [0,1,0],\n",
    "   [0,0,1]]"
   ]
  },
  {
   "cell_type": "code",
   "execution_count": 3,
   "id": "0691d302-f706-4432-bf0c-94da714e3b53",
   "metadata": {},
   "outputs": [],
   "source": [
    "import numpy as np\n",
    "import matplotlib.pyplot as plt"
   ]
  },
  {
   "cell_type": "code",
   "execution_count": 4,
   "id": "54e91394-660b-47e1-92ba-4341b3bf6942",
   "metadata": {},
   "outputs": [
    {
     "data": {
      "text/plain": [
       "<matplotlib.image.AxesImage at 0x1382d0d25d0>"
      ]
     },
     "execution_count": 4,
     "metadata": {},
     "output_type": "execute_result"
    },
    {
     "data": {
      "image/png": "[encoded data removed]",
      "text/plain": [
       "<Figure size 640x480 with 1 Axes>"
      ]
     },
     "metadata": {},
     "output_type": "display_data"
    }
   ],
   "source": [
    "#visualisation of the data\n",
    "plt.imshow(np.array(a).reshape(5,6))\n"
   ]
  },
  {
   "cell_type": "code",
   "execution_count": 5,
   "id": "6b4fa0a0-8dcd-48f0-a52d-d93b3080254f",
   "metadata": {},
   "outputs": [
    {
     "data": {
      "text/plain": [
       "<matplotlib.image.AxesImage at 0x1382d10f710>"
      ]
     },
     "execution_count": 5,
     "metadata": {},
     "output_type": "execute_result"
    },
    {
     "data": {
      "image/png": "[encoded data removed]",
      "text/plain": [
       "<Figure size 640x480 with 1 Axes>"
      ]
     },
     "metadata": {},
     "output_type": "display_data"
    }
   ],
   "source": [
    "plt.imshow(np.array(b).reshape(5,6))"
   ]
  },
  {
   "cell_type": "code",
   "execution_count": 6,
   "id": "e01a2919-2948-4444-bb0f-0614a47280fd",
   "metadata": {},
   "outputs": [
    {
     "data": {
      "text/plain": [
       "<matplotlib.image.AxesImage at 0x1382e2edbb0>"
      ]
     },
     "execution_count": 6,
     "metadata": {},
     "output_type": "execute_result"
    },
    {
     "data": {
      "image/png": "[encoded data removed]",
      "text/plain": [
       "<Figure size 640x480 with 1 Axes>"
      ]
     },
     "metadata": {},
     "output_type": "display_data"
    }
   ],
   "source": [
    "plt.imshow(np.array(c).reshape(5,6))"
   ]
  },
  {
   "cell_type": "code",
   "execution_count": 7,
   "id": "f354df9c-9f3e-44c8-b67a-ae714379b660",
   "metadata": {},
   "outputs": [
    {
     "name": "stdout",
     "output_type": "stream",
     "text": [
      "[array([[0, 0, 1, 1, 0, 0, 0, 1, 0, 0, 1, 0, 1, 1, 1, 1, 1, 1, 1, 0, 0, 0,\n",
      "        0, 1, 1, 0, 0, 0, 0, 1]]), array([[0, 1, 1, 1, 1, 0, 0, 1, 0, 0, 1, 0, 0, 1, 1, 1, 1, 0, 0, 1, 0, 0,\n",
      "        1, 0, 0, 1, 1, 1, 1, 0]]), array([[0, 1, 1, 1, 1, 0, 0, 1, 0, 0, 0, 0, 0, 1, 0, 0, 0, 0, 0, 1, 0, 0,\n",
      "        0, 0, 0, 1, 1, 1, 1, 0]])] \n",
      "\n",
      " [[1 0 0]\n",
      " [0 1 0]\n",
      " [0 0 1]]\n"
     ]
    }
   ],
   "source": [
    "#convert data and labels into numpy array\n",
    "x=[np.array(a).reshape(1,30), np.array(b).reshape(1,30), np.array(c).reshape(1,30)]\n",
    "\n",
    "y= np.array(y)\n",
    "\n",
    "print(x, \"\\n\\n\", y)"
   ]
  },
  {
   "cell_type": "code",
   "execution_count": 8,
   "id": "f154cb1b-a428-4ef1-b155-cd72f83e671a",
   "metadata": {},
   "outputs": [],
   "source": [
    "#input(1,30)\n",
    "#hidden(1,5)\n",
    "#output(3,3)"
   ]
  },
  {
   "cell_type": "code",
   "execution_count": 9,
   "id": "0d629818-f32f-48d7-8d58-e7276a1a975f",
   "metadata": {},
   "outputs": [],
   "source": [
    "#avtication function\n",
    "\n",
    "def sigmoid(x):\n",
    "    return(1/(1+np.exp(-x)))"
   ]
  },
  {
   "cell_type": "code",
   "execution_count": 10,
   "id": "9b645210-f0f3-47e8-a06b-95f65f73e3e5",
   "metadata": {},
   "outputs": [],
   "source": [
    "#creating feeds forword NN\n",
    "def f_forword(x,w1,w2):\n",
    "    #hidden layer\n",
    "    z1 = x.dot(w1)\n",
    "    a1 = sigmoid(z1)\n",
    "\n",
    "    #output layer\n",
    "    z2 = a1.dot(w2)\n",
    "    a2 = sigmoid(z2)\n",
    "    return(a2)"
   ]
  },
  {
   "cell_type": "code",
   "execution_count": 11,
   "id": "4539946c-52ef-44df-8c69-70c986682e0d",
   "metadata": {},
   "outputs": [],
   "source": [
    "#initialize the weights\n",
    "def generate_wt(x,y):\n",
    "    l=[]\n",
    "    for i in range(x*y):\n",
    "        l.append(np.random.randn())\n",
    "    return (np.array(l).reshape(x,y))"
   ]
  },
  {
   "cell_type": "code",
   "execution_count": 12,
   "id": "4e6c0b32-027b-4ca0-9249-a8a2416aa0f5",
   "metadata": {},
   "outputs": [],
   "source": [
    "def loss(out, Y):\n",
    "    s = (np.square(out-Y))\n",
    "    s = np.sum(s)/len(y)\n",
    "    return(s)"
   ]
  },
  {
   "cell_type": "code",
   "execution_count": 13,
   "id": "6c3af3be-b897-4838-b093-6557edeea260",
   "metadata": {},
   "outputs": [],
   "source": [
    "#back propagation\n",
    "def back_prop(x,y,w1,w2,alpha):\n",
    "\n",
    "    #hidden\n",
    "    z1 = x.dot(w1)\n",
    "    a1 = sigmoid(z1)\n",
    "\n",
    "    #output layer\n",
    "    z2 = a1.dot(w2)\n",
    "    a2 = sigmoid(z2)\n",
    "\n",
    "    d2 = (a2-y)\n",
    "    d1 = np.multiply((w2.dot((d2.transpose()))).transpose(), (np.multiply(a1, 1 - a1)))\n",
    "\n",
    "    #gradient\n",
    "    w1_adj = x.transpose().dot(d1)\n",
    "    w2_adj = a1.transpose().dot(d2)\n",
    "\n",
    "    w1 = w1 -(alpha*(w1_adj))\n",
    "    w2 = w2 -(alpha*(w2_adj))\n",
    "\n",
    "    return(w1,w2)"
   ]
  },
  {
   "cell_type": "code",
   "execution_count": 14,
   "id": "376d94b8-3308-4b31-8ae5-09e56c79e126",
   "metadata": {},
   "outputs": [],
   "source": [
    "def train(x,Y,w1,w2,alpha = 0.01,epoch = 10):\n",
    "    acc = []\n",
    "    loss1 = []\n",
    "    for j in range(epoch):\n",
    "        l = []\n",
    "        for i in range(len(x)):\n",
    "            out= f_forword(x[i], w1,w2)\n",
    "            l.append(loss(out, Y[i]))\n",
    "            w1,w2 = back_prop(x[i], y[i],w1,w2,alpha)\n",
    "            print(\"Epochs:\", j+1, \"acc:\", (1-(sum(l)/len(x)))*100)\n",
    "            acc.append((1-(sum(l)/len(x)))*100)\n",
    "            loss1.append(sum(l)/len(x))\n",
    "        return(acc,loss1,w1,w2)"
   ]
  },
  {
   "cell_type": "code",
   "execution_count": 15,
   "id": "9a2bc8f7-37df-4121-9e09-c7ee9395e16b",
   "metadata": {},
   "outputs": [],
   "source": [
    "def predict(x,w1,w2):\n",
    "    Out = f_forword(x,w1,w2)\n",
    "    maxm=0\n",
    "    k=0\n",
    "    for i in range(len(Out[0])):\n",
    "        if(maxm<Out[0][i]):\n",
    "            maxm = Out[0][i]\n",
    "            k=i\n",
    "    if (k==0):\n",
    "        print(\"Image is of letter A\")\n",
    "    elif (k==1):\n",
    "        print(\"Image is of letter B\")\n",
    "    else:\n",
    "        print(\"Image is of letter C\")\n",
    "    plt.imshow(x.reshape(5,6))\n",
    "    plt.show()"
   ]
  },
  {
   "cell_type": "code",
   "execution_count": 16,
   "id": "39e1bde4-5b91-4056-aef4-d5dc741995bd",
   "metadata": {
    "scrolled": true
   },
   "outputs": [
    {
     "name": "stdout",
     "output_type": "stream",
     "text": [
      "[[-2.46450467e+00 -9.13083900e-01  1.93089801e+00 -6.97752879e-01\n",
      "   8.44981276e-01]\n",
      " [-4.98710338e-01 -3.21703194e-01 -1.03936127e-01  2.05799011e-01\n",
      "  -3.24465082e-01]\n",
      " [ 2.30308595e+00  1.79633286e+00 -1.39655522e+00 -1.09092164e+00\n",
      "  -2.72366122e-01]\n",
      " [-7.58006008e-01 -7.79774416e-01 -2.86602810e-02 -2.62412332e-01\n",
      "  -7.81492325e-01]\n",
      " [ 2.03444759e+00  1.54895145e+00  6.36665443e-01  5.70586646e-01\n",
      "   1.00031498e-01]\n",
      " [-9.49796799e-01 -3.48930015e-01 -1.10360770e+00 -9.90208923e-01\n",
      "   1.59674996e+00]\n",
      " [-1.03574958e+00  3.27739885e+00 -5.55874219e-01 -4.94140771e-01\n",
      "  -2.04521905e+00]\n",
      " [ 3.64634158e-01  1.69021884e+00  5.15537147e-01  2.24727737e-01\n",
      "   5.15330800e-01]\n",
      " [-7.59004785e-02  1.61481485e+00 -1.56526761e+00  2.81042327e-01\n",
      "   7.24066142e-01]\n",
      " [-4.13887670e-01 -6.78801484e-01  1.06696468e+00  1.89188982e+00\n",
      "   6.25039011e-01]\n",
      " [ 4.64743525e-01  5.57370256e-01  2.68348020e-01  8.39015988e-01\n",
      "   7.42111107e-01]\n",
      " [ 8.97750267e-01 -3.50804987e-03 -5.22504980e-01 -1.71017507e-01\n",
      "  -2.96647967e+00]\n",
      " [-6.88875264e-01 -1.23408278e+00 -1.11274239e+00  3.26027687e-02\n",
      "   1.34773358e+00]\n",
      " [-1.38884368e+00 -9.20384938e-01  1.59692368e+00  1.01549217e+00\n",
      "  -6.26847413e-01]\n",
      " [ 1.03901621e+00 -1.40827106e+00  7.35927594e-01 -2.16710276e+00\n",
      "   2.38686265e-01]\n",
      " [-2.08332160e-01 -1.40891567e+00 -2.99737225e+00 -1.78806232e+00\n",
      "   1.97985486e+00]\n",
      " [ 8.51050105e-01 -7.75150316e-01 -5.10093644e-01  1.50444161e+00\n",
      "  -1.05833877e+00]\n",
      " [ 5.14258646e-01 -2.51997924e-02 -3.31798538e-03  1.69434857e+00\n",
      "  -6.27043346e-01]\n",
      " [ 1.16491896e+00 -3.59419606e+00  9.06968540e-01 -3.07260136e-01\n",
      "   6.25614037e-02]\n",
      " [-8.14198881e-01  1.91005752e+00  5.17752453e-01 -6.61205026e-01\n",
      "  -2.19806318e-01]\n",
      " [-2.35672839e-01 -9.95720556e-01 -7.23615439e-01  2.03663197e-01\n",
      "   9.10409423e-01]\n",
      " [ 2.01365948e+00 -9.81959515e-01 -1.81485157e+00  2.60170647e-01\n",
      "   1.11254282e-01]\n",
      " [ 3.13519949e-01  9.39817627e-01 -3.34991493e-01  1.55849849e+00\n",
      "  -4.74674013e-01]\n",
      " [ 2.81299669e-01 -8.10766578e-02  9.34902465e-01  7.54075478e-02\n",
      "   2.10870226e+00]\n",
      " [-2.09535716e-01 -7.61435721e-01 -1.17408504e+00 -5.66810667e-02\n",
      "   1.02138244e+00]\n",
      " [-1.47661145e-01 -1.76664756e+00  1.89252802e+00 -1.65033228e+00\n",
      "   1.65620418e+00]\n",
      " [ 5.65461478e-01  8.32742640e-01  1.68398237e-01 -1.41578935e+00\n",
      "  -1.28103751e-01]\n",
      " [ 4.96485014e-01  5.91172828e-01 -6.47459677e-01  9.65173905e-02\n",
      "   3.27577479e-01]\n",
      " [ 7.92508473e-01  6.32728818e-01  5.68716558e-01 -5.79561945e-01\n",
      "  -2.98530316e-01]\n",
      " [-2.15719486e+00 -4.76948355e-02  1.41018806e-01  7.43724079e-01\n",
      "  -3.32175541e-02]] \n",
      " [[-0.19383656 -1.62910561  0.62587736]\n",
      " [ 0.23589891 -1.49606652  1.98696991]\n",
      " [ 0.3967404  -0.29131038 -1.62446233]\n",
      " [-1.01091251  0.70595659 -1.82234818]\n",
      " [ 0.24716629  0.06121313  1.18868527]]\n"
     ]
    }
   ],
   "source": [
    "w1= generate_wt(30,5)\n",
    "w2 = generate_wt(5,3)\n",
    "print (w1, \"\\n\",w2)"
   ]
  },
  {
   "cell_type": "code",
   "execution_count": 17,
   "id": "bdf5112e-152e-46ef-b25e-a39d287944dc",
   "metadata": {
    "scrolled": true
   },
   "outputs": [
    {
     "name": "stdout",
     "output_type": "stream",
     "text": [
      "Epochs: 1 acc: 90.7699435972624\n",
      "Epochs: 1 acc: 66.96159591475114\n",
      "Epochs: 1 acc: 62.22490499624753\n"
     ]
    }
   ],
   "source": [
    "acc, loss, w1, w2 = train(x,y,w1,w2,0.1,100)"
   ]
  },
  {
   "cell_type": "code",
   "execution_count": 18,
   "id": "1151153a-d121-4f6a-97ce-9c4ec9a11954",
   "metadata": {},
   "outputs": [
    {
     "data": {
      "image/png": "[encoded data removed]",
      "text/plain": [
       "<Figure size 640x480 with 1 Axes>"
      ]
     },
     "metadata": {},
     "output_type": "display_data"
    }
   ],
   "source": [
    "import matplotlib.pyplot as plt1\n",
    "\n",
    "#plotting accuracy\n",
    "plt1.plot(acc)\n",
    "plt.ylabel('Accuracy')\n",
    "plt.xlabel(\"Epochs:\")\n",
    "plt1.show()"
   ]
  },
  {
   "cell_type": "code",
   "execution_count": 19,
   "id": "ebc48bca-a0b0-44af-b753-c8fe3c1041bc",
   "metadata": {},
   "outputs": [
    {
     "data": {
      "image/png": "[encoded data removed]",
      "text/plain": [
       "<Figure size 640x480 with 1 Axes>"
      ]
     },
     "metadata": {},
     "output_type": "display_data"
    }
   ],
   "source": [
    "#plot loss\n",
    "plt1.plot(loss)\n",
    "plt.ylabel('Loss')\n",
    "plt.xlabel(\"Epochs:\")\n",
    "plt1.show()"
   ]
  },
  {
   "cell_type": "code",
   "execution_count": 20,
   "id": "58b00c3c-d843-458e-941f-ebae8609456e",
   "metadata": {},
   "outputs": [
    {
     "name": "stdout",
     "output_type": "stream",
     "text": [
      "[[-2.46450467e+00 -9.13083900e-01  1.93089801e+00 -6.97752879e-01\n",
      "   8.44981276e-01]\n",
      " [-4.98082914e-01 -3.35100724e-01 -8.69312017e-02  2.14064828e-01\n",
      "  -3.40864102e-01]\n",
      " [ 2.30340814e+00  1.78287929e+00 -1.36707950e+00 -1.07645485e+00\n",
      "  -2.89325442e-01]\n",
      " [-7.57683815e-01 -7.93227979e-01  8.15430719e-04 -2.47945543e-01\n",
      "  -7.98451644e-01]\n",
      " [ 2.03507502e+00  1.53555392e+00  6.53670368e-01  5.78852464e-01\n",
      "   8.36324779e-02]\n",
      " [-9.49796799e-01 -3.48930015e-01 -1.10360770e+00 -9.90208923e-01\n",
      "   1.59674996e+00]\n",
      " [-1.03574958e+00  3.27739885e+00 -5.55874219e-01 -4.94140771e-01\n",
      "  -2.04521905e+00]\n",
      " [ 3.64956351e-01  1.67676528e+00  5.45012858e-01  2.39194526e-01\n",
      "   4.98371481e-01]\n",
      " [-7.59004785e-02  1.61481485e+00 -1.56526761e+00  2.81042327e-01\n",
      "   7.24066142e-01]\n",
      " [-4.13887670e-01 -6.78801484e-01  1.06696468e+00  1.89188982e+00\n",
      "   6.25039011e-01]\n",
      " [ 4.63542407e-01  5.43642330e-01  2.98971244e-01  8.53226809e-01\n",
      "   7.22524987e-01]\n",
      " [ 8.97750267e-01 -3.50804987e-03 -5.22504980e-01 -1.71017507e-01\n",
      "  -2.96647967e+00]\n",
      " [-6.89180495e-01 -1.23413882e+00 -1.10027160e+00  3.88037406e-02\n",
      "   1.34717328e+00]\n",
      " [-1.38852149e+00 -9.33838501e-01  1.62639939e+00  1.02995896e+00\n",
      "  -6.43806732e-01]\n",
      " [ 1.03781509e+00 -1.42199899e+00  7.66550819e-01 -2.15289194e+00\n",
      "   2.19100146e-01]\n",
      " [-2.09533277e-01 -1.42264360e+00 -2.96674903e+00 -1.77385150e+00\n",
      "   1.96026874e+00]\n",
      " [ 8.49848987e-01 -7.88878242e-01 -4.79470419e-01  1.51865243e+00\n",
      "  -1.07792489e+00]\n",
      " [ 5.13953415e-01 -2.52558252e-02  9.15280135e-03  1.70054955e+00\n",
      "  -6.27603646e-01]\n",
      " [ 1.16461373e+00 -3.59425209e+00  9.19439327e-01 -3.01059164e-01\n",
      "   6.20011045e-02]\n",
      " [-8.13571457e-01  1.89665999e+00  5.34757378e-01 -6.52939208e-01\n",
      "  -2.36205338e-01]\n",
      " [-2.35672839e-01 -9.95720556e-01 -7.23615439e-01  2.03663197e-01\n",
      "   9.10409423e-01]\n",
      " [ 2.01365948e+00 -9.81959515e-01 -1.81485157e+00  2.60170647e-01\n",
      "   1.11254282e-01]\n",
      " [ 3.12624063e-01  9.26145734e-01 -3.16839055e-01  1.56650834e+00\n",
      "  -4.93699833e-01]\n",
      " [ 2.80994438e-01 -8.11326905e-02  9.47373252e-01  8.16085196e-02\n",
      "   2.10814196e+00]\n",
      " [-2.09840947e-01 -7.61491754e-01 -1.16161425e+00 -5.04800949e-02\n",
      "   1.02082214e+00]\n",
      " [-1.47033721e-01 -1.78004509e+00  1.90953294e+00 -1.64206646e+00\n",
      "   1.63980516e+00]\n",
      " [ 5.66088902e-01  8.19345110e-01  1.85403162e-01 -1.40752353e+00\n",
      "  -1.44502771e-01]\n",
      " [ 4.97112438e-01  5.77775298e-01 -6.30454752e-01  1.04783208e-01\n",
      "   3.11178459e-01]\n",
      " [ 7.93135898e-01  6.19331288e-01  5.85721483e-01 -5.71296127e-01\n",
      "  -3.14929337e-01]\n",
      " [-2.15750009e+00 -4.77508683e-02  1.53489593e-01  7.49925051e-01\n",
      "  -3.37778534e-02]] /n [[-0.26368024 -1.56180271  0.51100695]\n",
      " [ 0.11451856 -1.40851234  1.92627208]\n",
      " [ 0.29751744 -0.22894821 -1.67123436]\n",
      " [-0.97658251  0.6906538  -1.86083171]\n",
      " [ 0.23110516  0.10711422  1.06881783]]\n"
     ]
    }
   ],
   "source": [
    "print(w1, \"/n\", w2)"
   ]
  },
  {
   "cell_type": "code",
   "execution_count": 21,
   "id": "b5fedbfd-851b-4469-8e3d-54495e8e4717",
   "metadata": {},
   "outputs": [
    {
     "name": "stdout",
     "output_type": "stream",
     "text": [
      "Image is of letter C\n"
     ]
    },
    {
     "data": {
      "image/png": "[encoded data removed]",
      "text/plain": [
       "<Figure size 640x480 with 1 Axes>"
      ]
     },
     "metadata": {},
     "output_type": "display_data"
    }
   ],
   "source": [
    "predict(x[0], w1, w2)"
   ]
  },
  {
   "cell_type": "code",
   "execution_count": 22,
   "id": "13c56724-207c-41f9-aa5f-c798e4a42dda",
   "metadata": {},
   "outputs": [
    {
     "name": "stdout",
     "output_type": "stream",
     "text": [
      "Image is of letter C\n"
     ]
    },
    {
     "data": {
      "image/png": "[encoded data removed]",
      "text/plain": [
       "<Figure size 640x480 with 1 Axes>"
      ]
     },
     "metadata": {},
     "output_type": "display_data"
    }
   ],
   "source": [
    "predict(x[1],w1,w2)"
   ]
  },
  {
   "cell_type": "code",
   "execution_count": 23,
   "id": "1a5c382b-1c44-4250-b16a-8fd2ea6eb94a",
   "metadata": {},
   "outputs": [
    {
     "name": "stdout",
     "output_type": "stream",
     "text": [
      "Image is of letter C\n"
     ]
    },
    {
     "data": {
      "image/png": "[encoded data removed]",
      "text/plain": [
       "<Figure size 640x480 with 1 Axes>"
      ]
     },
     "metadata": {},
     "output_type": "display_data"
    }
   ],
   "source": [
    "predict(x[2], w1, w2)"
   ]
  }
 ],
 "metadata": {
  "kernelspec": {
   "display_name": "Python 3 (ipykernel)",
   "language": "python",
   "name": "python3"
  },
  "language_info": {
   "codemirror_mode": {
    "name": "ipython",
    "version": 3
   },
   "file_extension": ".py",
   "mimetype": "text/x-python",
   "name": "python",
   "nbconvert_exporter": "python",
   "pygments_lexer": "ipython3",
   "version": "3.12.4"
  }
 },
 "nbformat": 4,
 "nbformat_minor": 5
}
